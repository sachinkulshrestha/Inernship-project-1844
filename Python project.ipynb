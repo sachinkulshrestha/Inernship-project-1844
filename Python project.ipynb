{
 "cells": [
  {
   "cell_type": "markdown",
   "id": "77438e49",
   "metadata": {},
   "source": [
    "# Factorial number"
   ]
  },
  {
   "cell_type": "code",
   "execution_count": 2,
   "id": "29793a75",
   "metadata": {},
   "outputs": [
    {
     "name": "stdout",
     "output_type": "stream",
     "text": [
      "Enter number:6\n",
      "factorial is : 720\n"
     ]
    }
   ],
   "source": [
    "i=int(input('Enter number:'))\n",
    "fac=1\n",
    "while (i>0):\n",
    "    fac=fac*i\n",
    "    i=i-1\n",
    "print('factorial is :', fac)\n",
    "    "
   ]
  },
  {
   "cell_type": "markdown",
   "id": "f40bd571",
   "metadata": {},
   "source": [
    "# Prime or composite."
   ]
  },
  {
   "cell_type": "code",
   "execution_count": 3,
   "id": "15830fc5",
   "metadata": {},
   "outputs": [
    {
     "name": "stdout",
     "output_type": "stream",
     "text": [
      "Enter Number :5\n",
      "Prime number\n"
     ]
    }
   ],
   "source": [
    "a = int(input('Enter Number :'))\n",
    "times=0\n",
    "i=1\n",
    "while(i<=a):\n",
    "    if(a%i==0):\n",
    "        times=times+1\n",
    "    i=i+1\n",
    "if(times==2):\n",
    "    print('Prime number')\n",
    "else:\n",
    "    print('composite number')"
   ]
  },
  {
   "cell_type": "code",
   "execution_count": 4,
   "id": "7c0637ff",
   "metadata": {},
   "outputs": [
    {
     "name": "stdout",
     "output_type": "stream",
     "text": [
      "Enter Number :4\n",
      "composite number\n"
     ]
    }
   ],
   "source": [
    "a = int(input('Enter Number :'))\n",
    "times=0\n",
    "i=1\n",
    "while(i<=a):\n",
    "    if(a%i==0):\n",
    "        times=times+1\n",
    "    i=i+1\n",
    "if(times==2):\n",
    "    print('Prime number')\n",
    "else:\n",
    "    print('composite number')"
   ]
  },
  {
   "cell_type": "markdown",
   "id": "dc0c671c",
   "metadata": {},
   "source": [
    "# String is palindrome or not"
   ]
  },
  {
   "cell_type": "code",
   "execution_count": 5,
   "id": "cc6c6012",
   "metadata": {},
   "outputs": [
    {
     "name": "stdout",
     "output_type": "stream",
     "text": [
      "Enter str:sachin\n",
      "Not polindrome\n"
     ]
    }
   ],
   "source": [
    "a =input('Enter str:')\n",
    "b=a[-1::-1]\n",
    "if(a==b):\n",
    "    print('Palindrome')\n",
    "else:\n",
    "    print(\"Not polindrome\")"
   ]
  },
  {
   "cell_type": "code",
   "execution_count": 9,
   "id": "d61620ec",
   "metadata": {},
   "outputs": [
    {
     "name": "stdout",
     "output_type": "stream",
     "text": [
      "Enter str:sas\n",
      "Palindrome\n"
     ]
    }
   ],
   "source": [
    "a =input('Enter str:')\n",
    "b=a[-1::-1]\n",
    "if(a==b):\n",
    "    print('Palindrome')\n",
    "else:\n",
    "    print(\"Not polindrome\")"
   ]
  },
  {
   "cell_type": "markdown",
   "id": "99344130",
   "metadata": {},
   "source": [
    "# Right-angled triangle"
   ]
  },
  {
   "cell_type": "code",
   "execution_count": 10,
   "id": "079c2c36",
   "metadata": {},
   "outputs": [
    {
     "name": "stdout",
     "output_type": "stream",
     "text": [
      "Enter perpendicular value in cm is:9\n",
      "Enter base value in cm is:12\n",
      "hypotenuse value in cm is: 15.0\n"
     ]
    }
   ],
   "source": [
    "a=int(input('Enter perpendicular value in cm is:'))\n",
    "b=int(input('Enter base value in cm is:'))\n",
    "h=((a**2+b**2)**0.5)\n",
    "print('hypotenuse value in cm is:',h)"
   ]
  },
  {
   "cell_type": "markdown",
   "id": "6dff0855",
   "metadata": {},
   "source": [
    "# Frequency"
   ]
  },
  {
   "cell_type": "code",
   "execution_count": 11,
   "id": "9493e36e",
   "metadata": {},
   "outputs": [
    {
     "name": "stdout",
     "output_type": "stream",
     "text": [
      "enter number to find frequency:5\n",
      "frequency is: 3\n"
     ]
    }
   ],
   "source": [
    "a=[5,6,7,6,6,7,6,5,6,8,5]\n",
    "k=int(input('enter number to find frequency:'))\n",
    "times=0\n",
    "size=len(a)\n",
    "for i in range(size):\n",
    "    if (a[i]==k):\n",
    "        times=times+1\n",
    "print('frequency is:',times)"
   ]
  },
  {
   "cell_type": "code",
   "execution_count": 12,
   "id": "b6474d88",
   "metadata": {},
   "outputs": [
    {
     "name": "stdout",
     "output_type": "stream",
     "text": [
      "enter number to find frequency:6\n",
      "frequency is: 5\n"
     ]
    }
   ],
   "source": [
    "a=[5,6,7,6,6,7,6,5,6,8,5]\n",
    "k=int(input('enter number to find frequency:'))\n",
    "times=0\n",
    "size=len(a)\n",
    "for i in range(size):\n",
    "    if (a[i]==k):\n",
    "        times=times+1\n",
    "print('frequency is:',times)"
   ]
  },
  {
   "cell_type": "markdown",
   "id": "7df9bc9c",
   "metadata": {},
   "source": []
  }
 ],
 "metadata": {
  "kernelspec": {
   "display_name": "Python 3",
   "language": "python",
   "name": "python3"
  },
  "language_info": {
   "codemirror_mode": {
    "name": "ipython",
    "version": 3
   },
   "file_extension": ".py",
   "mimetype": "text/x-python",
   "name": "python",
   "nbconvert_exporter": "python",
   "pygments_lexer": "ipython3",
   "version": "3.8.8"
  }
 },
 "nbformat": 4,
 "nbformat_minor": 5
}
